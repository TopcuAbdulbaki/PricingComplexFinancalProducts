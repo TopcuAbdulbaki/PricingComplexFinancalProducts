{
 "cells": [
  {
   "cell_type": "code",
   "execution_count": 1,
   "metadata": {
    "vscode": {
     "languageId": "plaintext"
    }
   },
   "outputs": [
    {
     "name": "stdout",
     "output_type": "stream",
     "text": [
      "Black-Scholes Fiyatı: 10.450583572185565\n",
      "Monte Carlo Simülasyon Fiyatı: 10.434216604774313\n"
     ]
    }
   ],
   "source": [
    "from PricePredictionMethods import methods\n",
    "\n",
    "S = 100  # Hisse senedi fiyatı\n",
    "K = 100  # Kullanım fiyatı\n",
    "T = 1    # Süre (yıl)\n",
    "r = 0.05 # Faiz oranı\n",
    "sigma = 0.2 # Volatilite\n",
    "num_simulations = 10000 # Simülasyon sayısı\n",
    "\n",
    "# Fiyatlandırma\n",
    "bs_price = methods.black_scholes(S, K, T, r, sigma)\n",
    "mc_price = methods.monte_carlo_option_price(S, K, T, r, sigma, num_simulations)\n",
    "\n",
    "print(f\"Black-Scholes Fiyatı: {bs_price}\")\n",
    "print(f\"Monte Carlo Simülasyon Fiyatı: {mc_price}\")\n"
   ]
  },
  {
   "cell_type": "code",
   "execution_count": null,
   "metadata": {},
   "outputs": [],
   "source": []
  }
 ],
 "metadata": {
  "kernelspec": {
   "display_name": "Python 3 (ipykernel)",
   "language": "python",
   "name": "python3"
  },
  "language_info": {
   "codemirror_mode": {
    "name": "ipython",
    "version": 3
   },
   "file_extension": ".py",
   "mimetype": "text/x-python",
   "name": "python",
   "nbconvert_exporter": "python",
   "pygments_lexer": "ipython3",
   "version": "3.12.7"
  }
 },
 "nbformat": 4,
 "nbformat_minor": 4
}
